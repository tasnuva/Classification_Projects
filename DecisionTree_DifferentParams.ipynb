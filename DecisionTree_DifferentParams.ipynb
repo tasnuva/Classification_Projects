{
 "cells": [
  {
   "cell_type": "markdown",
   "metadata": {},
   "source": [
    "# The purpose of this project is to predict label target values based on the features provided using Decision Tree classifier with various parameters \n",
    "\n",
    "## tool used for data preprocessing: pandas\n",
    "\n",
    "## tool used for visualization : matplotlib\n",
    "\n",
    "## model used for prediction: Decision Tree Classifier with different parameters of criterion and splitter\n",
    "\n",
    "## tools used for data validation: confusion_matrix, precision_score, recall_score,f1_score"
   ]
  },
  {
   "cell_type": "code",
   "execution_count": null,
   "metadata": {
    "colab": {},
    "colab_type": "code",
    "id": "pxQsFSFimVl1"
   },
   "outputs": [],
   "source": [
    "# Mount at the google drive"
   ]
  },
  {
   "cell_type": "code",
   "execution_count": 1,
   "metadata": {
    "colab": {},
    "colab_type": "code",
    "executionInfo": {
     "elapsed": 275,
     "status": "ok",
     "timestamp": 1600446089872,
     "user": {
      "displayName": "Tasnuva Tehrin",
      "photoUrl": "",
      "userId": "04231041290543336108"
     },
     "user_tz": 300
    },
    "id": "zKmzAwH7iswI"
   },
   "outputs": [],
   "source": [
    "from google.colab import drive"
   ]
  },
  {
   "cell_type": "code",
   "execution_count": 2,
   "metadata": {
    "colab": {
     "base_uri": "https://localhost:8080/",
     "height": 34
    },
    "colab_type": "code",
    "executionInfo": {
     "elapsed": 17945,
     "status": "ok",
     "timestamp": 1600446110267,
     "user": {
      "displayName": "Tasnuva Tehrin",
      "photoUrl": "",
      "userId": "04231041290543336108"
     },
     "user_tz": 300
    },
    "id": "BFnS2dKZjrt2",
    "outputId": "888e93ec-a7c4-47e1-bd2d-720621f52601"
   },
   "outputs": [
    {
     "name": "stdout",
     "output_type": "stream",
     "text": [
      "Mounted at /content/drive\n"
     ]
    }
   ],
   "source": [
    "drive.mount('/content/drive')"
   ]
  },
  {
   "cell_type": "code",
   "execution_count": 6,
   "metadata": {
    "colab": {
     "base_uri": "https://localhost:8080/",
     "height": 119
    },
    "colab_type": "code",
    "executionInfo": {
     "elapsed": 274,
     "status": "ok",
     "timestamp": 1600446168935,
     "user": {
      "displayName": "Tasnuva Tehrin",
      "photoUrl": "",
      "userId": "04231041290543336108"
     },
     "user_tz": 300
    },
    "id": "WM9gBQNujvX0",
    "outputId": "5c4bd3e4-7315-42c0-c7c0-0d4fd6a1ae3c"
   },
   "outputs": [
    {
     "name": "stdout",
     "output_type": "stream",
     "text": [
      "/content/drive/My Drive/Colab Notebooks\n",
      " abalone.data    homework01.ipynb  'ML Challenge 1.ipynb'   tree.dot\n",
      " car.data        homework02.ipynb  'Practise 1.ipynb'       tree.png\n",
      " car.dot         homework03.ipynb  'Practise 2.ipynb'       weather.csv\n",
      " car_model.dot   iris_tree.dot      SPECT.test              weather.ipynb\n",
      " car.png         iris_tree.png      SPECT.train\n"
     ]
    }
   ],
   "source": [
    "%cd /content/drive/'My Drive'/'Colab Notebooks'\n",
    "%ls"
   ]
  },
  {
   "cell_type": "code",
   "execution_count": null,
   "metadata": {
    "colab": {},
    "colab_type": "code",
    "id": "VEmNvF_4mcjY"
   },
   "outputs": [],
   "source": [
    "# Import pandas and load the dataset, if header list is not provided for the attributes make a header list"
   ]
  },
  {
   "cell_type": "code",
   "execution_count": 4,
   "metadata": {
    "colab": {},
    "colab_type": "code",
    "executionInfo": {
     "elapsed": 333,
     "status": "ok",
     "timestamp": 1600446113695,
     "user": {
      "displayName": "Tasnuva Tehrin",
      "photoUrl": "",
      "userId": "04231041290543336108"
     },
     "user_tz": 300
    },
    "id": "UtpE6y4Oj-6W"
   },
   "outputs": [],
   "source": [
    "import pandas as pd"
   ]
  },
  {
   "cell_type": "code",
   "execution_count": 17,
   "metadata": {
    "colab": {},
    "colab_type": "code",
    "executionInfo": {
     "elapsed": 231,
     "status": "ok",
     "timestamp": 1600446820766,
     "user": {
      "displayName": "Tasnuva Tehrin",
      "photoUrl": "",
      "userId": "04231041290543336108"
     },
     "user_tz": 300
    },
    "id": "816N1MEkkCZF"
   },
   "outputs": [],
   "source": [
    "header_list_train = ['Target','Column1','Column2','Column3','Column4','Column5','Column6','Column7','Column8','Column9','Column10','Column11','Column12','Column13','Column14','Column15','Column16','Column17','Column18','Column19','Column20','Column21','Column22']\n",
    "header_list_test = ['Target','Column1','Column2','Column3','Column4','Column5','Column6','Column7','Column8','Column9','Column10','Column11','Column12','Column13','Column14','Column15','Column16','Column17','Column18','Column19','Column20','Column21','Column22']\n",
    "spect_train_df = pd.read_csv('SPECT.train',names=header_list_train)\n",
    "spect_test_df = pd.read_csv('SPECT.test',names=header_list_test)"
   ]
  },
  {
   "cell_type": "code",
   "execution_count": 18,
   "metadata": {
    "colab": {
     "base_uri": "https://localhost:8080/",
     "height": 439
    },
    "colab_type": "code",
    "executionInfo": {
     "elapsed": 214,
     "status": "ok",
     "timestamp": 1600446822068,
     "user": {
      "displayName": "Tasnuva Tehrin",
      "photoUrl": "",
      "userId": "04231041290543336108"
     },
     "user_tz": 300
    },
    "id": "j8HvqaYIkVD6",
    "outputId": "14fd46c6-177f-4d1b-eff5-b8585301f92b"
   },
   "outputs": [
    {
     "data": {
      "text/html": [
       "<div>\n",
       "<style scoped>\n",
       "    .dataframe tbody tr th:only-of-type {\n",
       "        vertical-align: middle;\n",
       "    }\n",
       "\n",
       "    .dataframe tbody tr th {\n",
       "        vertical-align: top;\n",
       "    }\n",
       "\n",
       "    .dataframe thead th {\n",
       "        text-align: right;\n",
       "    }\n",
       "</style>\n",
       "<table border=\"1\" class=\"dataframe\">\n",
       "  <thead>\n",
       "    <tr style=\"text-align: right;\">\n",
       "      <th></th>\n",
       "      <th>Target</th>\n",
       "      <th>Column1</th>\n",
       "      <th>Column2</th>\n",
       "      <th>Column3</th>\n",
       "      <th>Column4</th>\n",
       "      <th>Column5</th>\n",
       "      <th>Column6</th>\n",
       "      <th>Column7</th>\n",
       "      <th>Column8</th>\n",
       "      <th>Column9</th>\n",
       "      <th>Column10</th>\n",
       "      <th>Column11</th>\n",
       "      <th>Column12</th>\n",
       "      <th>Column13</th>\n",
       "      <th>Column14</th>\n",
       "      <th>Column15</th>\n",
       "      <th>Column16</th>\n",
       "      <th>Column17</th>\n",
       "      <th>Column18</th>\n",
       "      <th>Column19</th>\n",
       "      <th>Column20</th>\n",
       "      <th>Column21</th>\n",
       "      <th>Column22</th>\n",
       "    </tr>\n",
       "  </thead>\n",
       "  <tbody>\n",
       "    <tr>\n",
       "      <th>0</th>\n",
       "      <td>1</td>\n",
       "      <td>1</td>\n",
       "      <td>0</td>\n",
       "      <td>0</td>\n",
       "      <td>1</td>\n",
       "      <td>1</td>\n",
       "      <td>0</td>\n",
       "      <td>0</td>\n",
       "      <td>0</td>\n",
       "      <td>1</td>\n",
       "      <td>1</td>\n",
       "      <td>0</td>\n",
       "      <td>0</td>\n",
       "      <td>0</td>\n",
       "      <td>1</td>\n",
       "      <td>1</td>\n",
       "      <td>1</td>\n",
       "      <td>0</td>\n",
       "      <td>0</td>\n",
       "      <td>1</td>\n",
       "      <td>1</td>\n",
       "      <td>0</td>\n",
       "      <td>0</td>\n",
       "    </tr>\n",
       "    <tr>\n",
       "      <th>1</th>\n",
       "      <td>1</td>\n",
       "      <td>1</td>\n",
       "      <td>0</td>\n",
       "      <td>0</td>\n",
       "      <td>1</td>\n",
       "      <td>1</td>\n",
       "      <td>0</td>\n",
       "      <td>0</td>\n",
       "      <td>0</td>\n",
       "      <td>0</td>\n",
       "      <td>1</td>\n",
       "      <td>0</td>\n",
       "      <td>0</td>\n",
       "      <td>1</td>\n",
       "      <td>0</td>\n",
       "      <td>0</td>\n",
       "      <td>0</td>\n",
       "      <td>0</td>\n",
       "      <td>0</td>\n",
       "      <td>0</td>\n",
       "      <td>0</td>\n",
       "      <td>0</td>\n",
       "      <td>0</td>\n",
       "    </tr>\n",
       "    <tr>\n",
       "      <th>2</th>\n",
       "      <td>1</td>\n",
       "      <td>0</td>\n",
       "      <td>0</td>\n",
       "      <td>0</td>\n",
       "      <td>1</td>\n",
       "      <td>0</td>\n",
       "      <td>1</td>\n",
       "      <td>0</td>\n",
       "      <td>0</td>\n",
       "      <td>1</td>\n",
       "      <td>0</td>\n",
       "      <td>1</td>\n",
       "      <td>0</td>\n",
       "      <td>0</td>\n",
       "      <td>1</td>\n",
       "      <td>1</td>\n",
       "      <td>0</td>\n",
       "      <td>0</td>\n",
       "      <td>0</td>\n",
       "      <td>0</td>\n",
       "      <td>0</td>\n",
       "      <td>0</td>\n",
       "      <td>1</td>\n",
       "    </tr>\n",
       "    <tr>\n",
       "      <th>3</th>\n",
       "      <td>1</td>\n",
       "      <td>0</td>\n",
       "      <td>1</td>\n",
       "      <td>1</td>\n",
       "      <td>1</td>\n",
       "      <td>0</td>\n",
       "      <td>0</td>\n",
       "      <td>1</td>\n",
       "      <td>0</td>\n",
       "      <td>1</td>\n",
       "      <td>0</td>\n",
       "      <td>0</td>\n",
       "      <td>1</td>\n",
       "      <td>1</td>\n",
       "      <td>1</td>\n",
       "      <td>0</td>\n",
       "      <td>1</td>\n",
       "      <td>0</td>\n",
       "      <td>0</td>\n",
       "      <td>0</td>\n",
       "      <td>0</td>\n",
       "      <td>1</td>\n",
       "      <td>0</td>\n",
       "    </tr>\n",
       "    <tr>\n",
       "      <th>4</th>\n",
       "      <td>1</td>\n",
       "      <td>0</td>\n",
       "      <td>0</td>\n",
       "      <td>1</td>\n",
       "      <td>0</td>\n",
       "      <td>0</td>\n",
       "      <td>0</td>\n",
       "      <td>0</td>\n",
       "      <td>1</td>\n",
       "      <td>0</td>\n",
       "      <td>0</td>\n",
       "      <td>1</td>\n",
       "      <td>0</td>\n",
       "      <td>1</td>\n",
       "      <td>1</td>\n",
       "      <td>0</td>\n",
       "      <td>1</td>\n",
       "      <td>0</td>\n",
       "      <td>0</td>\n",
       "      <td>0</td>\n",
       "      <td>0</td>\n",
       "      <td>0</td>\n",
       "      <td>1</td>\n",
       "    </tr>\n",
       "    <tr>\n",
       "      <th>...</th>\n",
       "      <td>...</td>\n",
       "      <td>...</td>\n",
       "      <td>...</td>\n",
       "      <td>...</td>\n",
       "      <td>...</td>\n",
       "      <td>...</td>\n",
       "      <td>...</td>\n",
       "      <td>...</td>\n",
       "      <td>...</td>\n",
       "      <td>...</td>\n",
       "      <td>...</td>\n",
       "      <td>...</td>\n",
       "      <td>...</td>\n",
       "      <td>...</td>\n",
       "      <td>...</td>\n",
       "      <td>...</td>\n",
       "      <td>...</td>\n",
       "      <td>...</td>\n",
       "      <td>...</td>\n",
       "      <td>...</td>\n",
       "      <td>...</td>\n",
       "      <td>...</td>\n",
       "      <td>...</td>\n",
       "    </tr>\n",
       "    <tr>\n",
       "      <th>182</th>\n",
       "      <td>0</td>\n",
       "      <td>0</td>\n",
       "      <td>0</td>\n",
       "      <td>0</td>\n",
       "      <td>0</td>\n",
       "      <td>0</td>\n",
       "      <td>0</td>\n",
       "      <td>0</td>\n",
       "      <td>0</td>\n",
       "      <td>0</td>\n",
       "      <td>0</td>\n",
       "      <td>0</td>\n",
       "      <td>0</td>\n",
       "      <td>0</td>\n",
       "      <td>0</td>\n",
       "      <td>0</td>\n",
       "      <td>0</td>\n",
       "      <td>0</td>\n",
       "      <td>0</td>\n",
       "      <td>0</td>\n",
       "      <td>0</td>\n",
       "      <td>0</td>\n",
       "      <td>0</td>\n",
       "    </tr>\n",
       "    <tr>\n",
       "      <th>183</th>\n",
       "      <td>0</td>\n",
       "      <td>1</td>\n",
       "      <td>1</td>\n",
       "      <td>0</td>\n",
       "      <td>0</td>\n",
       "      <td>0</td>\n",
       "      <td>1</td>\n",
       "      <td>0</td>\n",
       "      <td>0</td>\n",
       "      <td>0</td>\n",
       "      <td>1</td>\n",
       "      <td>1</td>\n",
       "      <td>1</td>\n",
       "      <td>0</td>\n",
       "      <td>0</td>\n",
       "      <td>0</td>\n",
       "      <td>1</td>\n",
       "      <td>0</td>\n",
       "      <td>0</td>\n",
       "      <td>0</td>\n",
       "      <td>0</td>\n",
       "      <td>0</td>\n",
       "      <td>0</td>\n",
       "    </tr>\n",
       "    <tr>\n",
       "      <th>184</th>\n",
       "      <td>0</td>\n",
       "      <td>1</td>\n",
       "      <td>0</td>\n",
       "      <td>1</td>\n",
       "      <td>0</td>\n",
       "      <td>1</td>\n",
       "      <td>0</td>\n",
       "      <td>0</td>\n",
       "      <td>1</td>\n",
       "      <td>0</td>\n",
       "      <td>0</td>\n",
       "      <td>0</td>\n",
       "      <td>0</td>\n",
       "      <td>1</td>\n",
       "      <td>0</td>\n",
       "      <td>1</td>\n",
       "      <td>1</td>\n",
       "      <td>0</td>\n",
       "      <td>0</td>\n",
       "      <td>0</td>\n",
       "      <td>0</td>\n",
       "      <td>0</td>\n",
       "      <td>0</td>\n",
       "    </tr>\n",
       "    <tr>\n",
       "      <th>185</th>\n",
       "      <td>0</td>\n",
       "      <td>1</td>\n",
       "      <td>0</td>\n",
       "      <td>1</td>\n",
       "      <td>0</td>\n",
       "      <td>1</td>\n",
       "      <td>0</td>\n",
       "      <td>0</td>\n",
       "      <td>1</td>\n",
       "      <td>1</td>\n",
       "      <td>0</td>\n",
       "      <td>0</td>\n",
       "      <td>0</td>\n",
       "      <td>0</td>\n",
       "      <td>1</td>\n",
       "      <td>0</td>\n",
       "      <td>1</td>\n",
       "      <td>0</td>\n",
       "      <td>0</td>\n",
       "      <td>0</td>\n",
       "      <td>0</td>\n",
       "      <td>0</td>\n",
       "      <td>0</td>\n",
       "    </tr>\n",
       "    <tr>\n",
       "      <th>186</th>\n",
       "      <td>0</td>\n",
       "      <td>0</td>\n",
       "      <td>0</td>\n",
       "      <td>0</td>\n",
       "      <td>0</td>\n",
       "      <td>0</td>\n",
       "      <td>0</td>\n",
       "      <td>0</td>\n",
       "      <td>0</td>\n",
       "      <td>0</td>\n",
       "      <td>0</td>\n",
       "      <td>0</td>\n",
       "      <td>0</td>\n",
       "      <td>0</td>\n",
       "      <td>0</td>\n",
       "      <td>0</td>\n",
       "      <td>0</td>\n",
       "      <td>0</td>\n",
       "      <td>0</td>\n",
       "      <td>0</td>\n",
       "      <td>0</td>\n",
       "      <td>0</td>\n",
       "      <td>0</td>\n",
       "    </tr>\n",
       "  </tbody>\n",
       "</table>\n",
       "<p>187 rows × 23 columns</p>\n",
       "</div>"
      ],
      "text/plain": [
       "     Target  Column1  Column2  Column3  ...  Column19  Column20  Column21  Column22\n",
       "0         1        1        0        0  ...         1         1         0         0\n",
       "1         1        1        0        0  ...         0         0         0         0\n",
       "2         1        0        0        0  ...         0         0         0         1\n",
       "3         1        0        1        1  ...         0         0         1         0\n",
       "4         1        0        0        1  ...         0         0         0         1\n",
       "..      ...      ...      ...      ...  ...       ...       ...       ...       ...\n",
       "182       0        0        0        0  ...         0         0         0         0\n",
       "183       0        1        1        0  ...         0         0         0         0\n",
       "184       0        1        0        1  ...         0         0         0         0\n",
       "185       0        1        0        1  ...         0         0         0         0\n",
       "186       0        0        0        0  ...         0         0         0         0\n",
       "\n",
       "[187 rows x 23 columns]"
      ]
     },
     "execution_count": 18,
     "metadata": {
      "tags": []
     },
     "output_type": "execute_result"
    }
   ],
   "source": [
    "spec_test_df"
   ]
  },
  {
   "cell_type": "code",
   "execution_count": 19,
   "metadata": {
    "colab": {
     "base_uri": "https://localhost:8080/",
     "height": 102
    },
    "colab_type": "code",
    "executionInfo": {
     "elapsed": 235,
     "status": "ok",
     "timestamp": 1600446823820,
     "user": {
      "displayName": "Tasnuva Tehrin",
      "photoUrl": "",
      "userId": "04231041290543336108"
     },
     "user_tz": 300
    },
    "id": "byCLAOyZmFvX",
    "outputId": "55418f35-df7e-49c4-a1ef-f63a58f2a800"
   },
   "outputs": [
    {
     "data": {
      "text/plain": [
       "Index(['Target', 'Column1', 'Column2', 'Column3', 'Column4', 'Column5',\n",
       "       'Column6', 'Column7', 'Column8', 'Column9', 'Column10', 'Column11',\n",
       "       'Column12', 'Column13', 'Column14', 'Column15', 'Column16', 'Column17',\n",
       "       'Column18', 'Column19', 'Column20', 'Column21', 'Column22'],\n",
       "      dtype='object')"
      ]
     },
     "execution_count": 19,
     "metadata": {
      "tags": []
     },
     "output_type": "execute_result"
    }
   ],
   "source": [
    "spect_train_df.columns"
   ]
  },
  {
   "cell_type": "code",
   "execution_count": 32,
   "metadata": {
    "colab": {
     "base_uri": "https://localhost:8080/",
     "height": 221
    },
    "colab_type": "code",
    "executionInfo": {
     "elapsed": 288,
     "status": "ok",
     "timestamp": 1600447402839,
     "user": {
      "displayName": "Tasnuva Tehrin",
      "photoUrl": "",
      "userId": "04231041290543336108"
     },
     "user_tz": 300
    },
    "id": "N6J_4aVKqkoc",
    "outputId": "f0e8590d-866c-42a9-9b39-73328912c779"
   },
   "outputs": [
    {
     "data": {
      "text/plain": [
       "0     1\n",
       "1     1\n",
       "2     1\n",
       "3     1\n",
       "4     1\n",
       "     ..\n",
       "75    0\n",
       "76    0\n",
       "77    0\n",
       "78    0\n",
       "79    0\n",
       "Name: Target, Length: 80, dtype: int64"
      ]
     },
     "execution_count": 32,
     "metadata": {
      "tags": []
     },
     "output_type": "execute_result"
    }
   ],
   "source": [
    "import numpy as np \n",
    "\n",
    "labels_train = spect_train_df['Target']\n",
    "labels_train"
   ]
  },
  {
   "cell_type": "code",
   "execution_count": null,
   "metadata": {
    "colab": {},
    "colab_type": "code",
    "id": "wx7kO_0yrKCg"
   },
   "outputs": [],
   "source": [
    "# Convert the feature of attribute classes to numpy array"
   ]
  },
  {
   "cell_type": "code",
   "execution_count": 33,
   "metadata": {
    "colab": {
     "base_uri": "https://localhost:8080/",
     "height": 255
    },
    "colab_type": "code",
    "executionInfo": {
     "elapsed": 264,
     "status": "ok",
     "timestamp": 1600447412042,
     "user": {
      "displayName": "Tasnuva Tehrin",
      "photoUrl": "",
      "userId": "04231041290543336108"
     },
     "user_tz": 300
    },
    "id": "0PJPHrVAq_GB",
    "outputId": "a4b5ea44-3173-4cff-c73b-d54595e1aecd"
   },
   "outputs": [
    {
     "name": "stdout",
     "output_type": "stream",
     "text": [
      "    Column1  Column2  Column3  Column4  ...  Column19  Column20  Column21  Column22\n",
      "0         0        0        0        1  ...         0         0         0         0\n",
      "1         0        0        1        1  ...         0         0         0         1\n",
      "2         1        0        1        0  ...         0         0         0         0\n",
      "3         0        0        0        0  ...         0         1         1         1\n",
      "4         0        0        0        0  ...         0         0         0         0\n",
      "..      ...      ...      ...      ...  ...       ...       ...       ...       ...\n",
      "75        1        0        0        0  ...         0         0         0         0\n",
      "76        1        0        0        0  ...         1         1         0         0\n",
      "77        1        0        0        0  ...         1         0         0         0\n",
      "78        0        0        1        1  ...         0         0         1         1\n",
      "79        1        0        0        0  ...         0         0         0         0\n",
      "\n",
      "[80 rows x 22 columns]\n"
     ]
    }
   ],
   "source": [
    "features_train = spect_train_df.drop(['Target'],axis=1)\n",
    "print(features_train)"
   ]
  },
  {
   "cell_type": "code",
   "execution_count": 34,
   "metadata": {
    "colab": {
     "base_uri": "https://localhost:8080/",
     "height": 221
    },
    "colab_type": "code",
    "executionInfo": {
     "elapsed": 264,
     "status": "ok",
     "timestamp": 1600447438224,
     "user": {
      "displayName": "Tasnuva Tehrin",
      "photoUrl": "",
      "userId": "04231041290543336108"
     },
     "user_tz": 300
    },
    "id": "3emK4t9-GZUd",
    "outputId": "1e60f2f5-4591-46f9-8e2d-7750d061ccce"
   },
   "outputs": [
    {
     "data": {
      "text/plain": [
       "0      1\n",
       "1      1\n",
       "2      1\n",
       "3      1\n",
       "4      1\n",
       "      ..\n",
       "182    0\n",
       "183    0\n",
       "184    0\n",
       "185    0\n",
       "186    0\n",
       "Name: Target, Length: 187, dtype: int64"
      ]
     },
     "execution_count": 34,
     "metadata": {
      "tags": []
     },
     "output_type": "execute_result"
    }
   ],
   "source": [
    "labels_test = spect_test_df['Target']\n",
    "labels_test"
   ]
  },
  {
   "cell_type": "code",
   "execution_count": 36,
   "metadata": {
    "colab": {
     "base_uri": "https://localhost:8080/",
     "height": 255
    },
    "colab_type": "code",
    "executionInfo": {
     "elapsed": 243,
     "status": "ok",
     "timestamp": 1600447463224,
     "user": {
      "displayName": "Tasnuva Tehrin",
      "photoUrl": "",
      "userId": "04231041290543336108"
     },
     "user_tz": 300
    },
    "id": "tnjKzas5Ges7",
    "outputId": "54bdabb9-b3fa-4e2b-e7ac-d9ad5299d091"
   },
   "outputs": [
    {
     "name": "stdout",
     "output_type": "stream",
     "text": [
      "     Column1  Column2  Column3  Column4  ...  Column19  Column20  Column21  Column22\n",
      "0          1        0        0        1  ...         1         1         0         0\n",
      "1          1        0        0        1  ...         0         0         0         0\n",
      "2          0        0        0        1  ...         0         0         0         1\n",
      "3          0        1        1        1  ...         0         0         1         0\n",
      "4          0        0        1        0  ...         0         0         0         1\n",
      "..       ...      ...      ...      ...  ...       ...       ...       ...       ...\n",
      "182        0        0        0        0  ...         0         0         0         0\n",
      "183        1        1        0        0  ...         0         0         0         0\n",
      "184        1        0        1        0  ...         0         0         0         0\n",
      "185        1        0        1        0  ...         0         0         0         0\n",
      "186        0        0        0        0  ...         0         0         0         0\n",
      "\n",
      "[187 rows x 22 columns]\n"
     ]
    }
   ],
   "source": [
    "features_test = spect_test_df.drop(['Target'],axis=1)\n",
    "print(features_test)"
   ]
  },
  {
   "cell_type": "code",
   "execution_count": 61,
   "metadata": {
    "colab": {},
    "colab_type": "code",
    "executionInfo": {
     "elapsed": 282,
     "status": "ok",
     "timestamp": 1600448647294,
     "user": {
      "displayName": "Tasnuva Tehrin",
      "photoUrl": "",
      "userId": "04231041290543336108"
     },
     "user_tz": 300
    },
    "id": "qdwsxIXHE9oV"
   },
   "outputs": [],
   "source": [
    "from sklearn.tree import DecisionTreeClassifier"
   ]
  },
  {
   "cell_type": "code",
   "execution_count": 62,
   "metadata": {
    "colab": {},
    "colab_type": "code",
    "executionInfo": {
     "elapsed": 324,
     "status": "ok",
     "timestamp": 1600448648276,
     "user": {
      "displayName": "Tasnuva Tehrin",
      "photoUrl": "",
      "userId": "04231041290543336108"
     },
     "user_tz": 300
    },
    "id": "Szmleo9jFW7A"
   },
   "outputs": [],
   "source": [
    "spect_train_model = DecisionTreeClassifier(criterion='entropy',splitter='random',max_depth=20,min_samples_split=4,max_features=4)"
   ]
  },
  {
   "cell_type": "code",
   "execution_count": 63,
   "metadata": {
    "colab": {
     "base_uri": "https://localhost:8080/",
     "height": 119
    },
    "colab_type": "code",
    "executionInfo": {
     "elapsed": 255,
     "status": "ok",
     "timestamp": 1600448649392,
     "user": {
      "displayName": "Tasnuva Tehrin",
      "photoUrl": "",
      "userId": "04231041290543336108"
     },
     "user_tz": 300
    },
    "id": "V-XdkCreFTlL",
    "outputId": "897cdc83-f780-43a5-f488-440adf689e52"
   },
   "outputs": [
    {
     "data": {
      "text/plain": [
       "DecisionTreeClassifier(ccp_alpha=0.0, class_weight=None, criterion='entropy',\n",
       "                       max_depth=20, max_features=4, max_leaf_nodes=None,\n",
       "                       min_impurity_decrease=0.0, min_impurity_split=None,\n",
       "                       min_samples_leaf=1, min_samples_split=4,\n",
       "                       min_weight_fraction_leaf=0.0, presort='deprecated',\n",
       "                       random_state=None, splitter='random')"
      ]
     },
     "execution_count": 63,
     "metadata": {
      "tags": []
     },
     "output_type": "execute_result"
    }
   ],
   "source": [
    "spect_train_model.fit(features_train,labels_train)"
   ]
  },
  {
   "cell_type": "code",
   "execution_count": 66,
   "metadata": {
    "colab": {
     "base_uri": "https://localhost:8080/",
     "height": 34
    },
    "colab_type": "code",
    "executionInfo": {
     "elapsed": 242,
     "status": "ok",
     "timestamp": 1600448672403,
     "user": {
      "displayName": "Tasnuva Tehrin",
      "photoUrl": "",
      "userId": "04231041290543336108"
     },
     "user_tz": 300
    },
    "id": "x1cSqjS-GK_e",
    "outputId": "c1efdefb-522e-40c4-e4cd-c6f28e845257"
   },
   "outputs": [
    {
     "name": "stdout",
     "output_type": "stream",
     "text": [
      "Accuracy Score for  spect Train Set:  0.9\n"
     ]
    }
   ],
   "source": [
    "train_pred_val = spect_train_model.predict(features_train)\n",
    "print(\"Accuracy Score for  spect Train Set: \",metrics.accuracy_score(labels_train, train_pred_val))"
   ]
  },
  {
   "cell_type": "code",
   "execution_count": 67,
   "metadata": {
    "colab": {
     "base_uri": "https://localhost:8080/",
     "height": 34
    },
    "colab_type": "code",
    "executionInfo": {
     "elapsed": 251,
     "status": "ok",
     "timestamp": 1600448673506,
     "user": {
      "displayName": "Tasnuva Tehrin",
      "photoUrl": "",
      "userId": "04231041290543336108"
     },
     "user_tz": 300
    },
    "id": "BETbi5WDG4-T",
    "outputId": "8b7a8379-0581-4272-c0d3-dba46eafbfa3"
   },
   "outputs": [
    {
     "name": "stdout",
     "output_type": "stream",
     "text": [
      "Accuracy Score for  spect Test Set:  0.6149732620320856\n"
     ]
    }
   ],
   "source": [
    "test_pred_val = spect_train_model.predict(features_test)\n",
    "print(\"Accuracy Score for  spect Test Set: \",metrics.accuracy_score(labels_test, test_pred_val))"
   ]
  },
  {
   "cell_type": "code",
   "execution_count": 69,
   "metadata": {
    "colab": {
     "base_uri": "https://localhost:8080/",
     "height": 34
    },
    "colab_type": "code",
    "executionInfo": {
     "elapsed": 297,
     "status": "ok",
     "timestamp": 1600448696895,
     "user": {
      "displayName": "Tasnuva Tehrin",
      "photoUrl": "",
      "userId": "04231041290543336108"
     },
     "user_tz": 300
    },
    "id": "EZIjQvchKVfe",
    "outputId": "c80074e6-c158-4d22-f19d-89156052db92"
   },
   "outputs": [
    {
     "data": {
      "text/plain": [
       "0.625"
      ]
     },
     "execution_count": 69,
     "metadata": {
      "tags": []
     },
     "output_type": "execute_result"
    }
   ],
   "source": [
    "from sklearn.model_selection import cross_val_score\n",
    "cross_val_score(spec_train_model,features_train,labels_train,cv=10).mean()"
   ]
  },
  {
   "cell_type": "code",
   "execution_count": 40,
   "metadata": {
    "colab": {},
    "colab_type": "code",
    "executionInfo": {
     "elapsed": 254,
     "status": "ok",
     "timestamp": 1600447677316,
     "user": {
      "displayName": "Tasnuva Tehrin",
      "photoUrl": "",
      "userId": "04231041290543336108"
     },
     "user_tz": 300
    },
    "id": "rG02uaU_HCMR"
   },
   "outputs": [],
   "source": [
    "from sklearn.model_selection import RandomizedSearchCV,GridSearchCV\n",
    "\n",
    "car_model = DecisionTreeClassifier()\n",
    "max_depth = [num for num in range(1,20)]\n",
    "max_depth.append(None)\n",
    "param_distributions={\n",
    "    'criterion': ['gini','entropy'],\n",
    "    'splitter': ['random','best'],\n",
    "    'max_depth':  max_depth\n",
    "}\n",
    "random_search = RandomizedSearchCV(spect_train_model,param_distributions,n_iter=100,cv=10,random_state=1)"
   ]
  },
  {
   "cell_type": "code",
   "execution_count": 41,
   "metadata": {
    "colab": {
     "base_uri": "https://localhost:8080/",
     "height": 462
    },
    "colab_type": "code",
    "executionInfo": {
     "elapsed": 2624,
     "status": "ok",
     "timestamp": 1600447713735,
     "user": {
      "displayName": "Tasnuva Tehrin",
      "photoUrl": "",
      "userId": "04231041290543336108"
     },
     "user_tz": 300
    },
    "id": "nA2Gcn6VHXzF",
    "outputId": "83b9be89-ef71-44b4-9916-7213b1190d79"
   },
   "outputs": [
    {
     "name": "stderr",
     "output_type": "stream",
     "text": [
      "/usr/local/lib/python3.6/dist-packages/sklearn/model_selection/_search.py:281: UserWarning: The total space of parameters 80 is smaller than n_iter=100. Running 80 iterations. For exhaustive searches, use GridSearchCV.\n",
      "  % (grid_size, self.n_iter, grid_size), UserWarning)\n"
     ]
    },
    {
     "data": {
      "text/plain": [
       "RandomizedSearchCV(cv=10, error_score=nan,\n",
       "                   estimator=DecisionTreeClassifier(ccp_alpha=0.0,\n",
       "                                                    class_weight=None,\n",
       "                                                    criterion='entropy',\n",
       "                                                    max_depth=20,\n",
       "                                                    max_features=4,\n",
       "                                                    max_leaf_nodes=None,\n",
       "                                                    min_impurity_decrease=0.0,\n",
       "                                                    min_impurity_split=None,\n",
       "                                                    min_samples_leaf=1,\n",
       "                                                    min_samples_split=4,\n",
       "                                                    min_weight_fraction_leaf=0.0,\n",
       "                                                    presort='deprecated',\n",
       "                                                    random_state=None,\n",
       "                                                    splitter='random'),\n",
       "                   iid='deprecated', n_iter=100, n_jobs=None,\n",
       "                   param_distributions={'criterion': ['gini', 'entropy'],\n",
       "                                        'max_depth': [1, 2, 3, 4, 5, 6, 7, 8, 9,\n",
       "                                                      10, 11, 12, 13, 14, 15,\n",
       "                                                      16, 17, 18, 19, None],\n",
       "                                        'splitter': ['random', 'best']},\n",
       "                   pre_dispatch='2*n_jobs', random_state=1, refit=True,\n",
       "                   return_train_score=False, scoring=None, verbose=0)"
      ]
     },
     "execution_count": 41,
     "metadata": {
      "tags": []
     },
     "output_type": "execute_result"
    }
   ],
   "source": [
    "random_search.fit(features_train,labels_train)"
   ]
  },
  {
   "cell_type": "code",
   "execution_count": 43,
   "metadata": {
    "colab": {},
    "colab_type": "code",
    "executionInfo": {
     "elapsed": 297,
     "status": "ok",
     "timestamp": 1600447841719,
     "user": {
      "displayName": "Tasnuva Tehrin",
      "photoUrl": "",
      "userId": "04231041290543336108"
     },
     "user_tz": 300
    },
    "id": "yYQS4hvzHiAN"
   },
   "outputs": [],
   "source": [
    "best_model= random_search.best_estimator_"
   ]
  },
  {
   "cell_type": "code",
   "execution_count": 80,
   "metadata": {
    "colab": {
     "base_uri": "https://localhost:8080/",
     "height": 34
    },
    "colab_type": "code",
    "executionInfo": {
     "elapsed": 331,
     "status": "ok",
     "timestamp": 1600449546163,
     "user": {
      "displayName": "Tasnuva Tehrin",
      "photoUrl": "",
      "userId": "04231041290543336108"
     },
     "user_tz": 300
    },
    "id": "rQL_5VioIN90",
    "outputId": "07cd6a61-4628-474e-f6f2-78819dd34d76"
   },
   "outputs": [
    {
     "name": "stdout",
     "output_type": "stream",
     "text": [
      "Accuracy Score for random search training set:  0.8625\n"
     ]
    }
   ],
   "source": [
    "print(\"Accuracy Score for random search training set: \",metrics.accuracy_score(labels_train, best_model.predict(features_train)))"
   ]
  },
  {
   "cell_type": "code",
   "execution_count": 81,
   "metadata": {
    "colab": {
     "base_uri": "https://localhost:8080/",
     "height": 34
    },
    "colab_type": "code",
    "executionInfo": {
     "elapsed": 293,
     "status": "ok",
     "timestamp": 1600449547330,
     "user": {
      "displayName": "Tasnuva Tehrin",
      "photoUrl": "",
      "userId": "04231041290543336108"
     },
     "user_tz": 300
    },
    "id": "7GqTL-gVH3RL",
    "outputId": "24afc5ea-b3d3-4584-e307-3e4f2aed671c"
   },
   "outputs": [
    {
     "name": "stdout",
     "output_type": "stream",
     "text": [
      "Accuracy Score for random search test set:  0.6256684491978609\n"
     ]
    }
   ],
   "source": [
    "print(\"Accuracy Score for random search test set: \",metrics.accuracy_score(labels_test, best_model.predict(features_test)))"
   ]
  },
  {
   "cell_type": "code",
   "execution_count": 57,
   "metadata": {
    "colab": {},
    "colab_type": "code",
    "executionInfo": {
     "elapsed": 253,
     "status": "ok",
     "timestamp": 1600448356827,
     "user": {
      "displayName": "Tasnuva Tehrin",
      "photoUrl": "",
      "userId": "04231041290543336108"
     },
     "user_tz": 300
    },
    "id": "iXJLFjyesfdb"
   },
   "outputs": [],
   "source": [
    "import sklearn.metrics as metrics\n",
    "from sklearn.metrics import accuracy_score\n",
    "from sklearn.metrics import confusion_matrix\n",
    "from sklearn.metrics import precision_score\n",
    "from sklearn.metrics import recall_score\n",
    "from sklearn.metrics import f1_score"
   ]
  },
  {
   "cell_type": "code",
   "execution_count": 56,
   "metadata": {
    "colab": {},
    "colab_type": "code",
    "executionInfo": {
     "elapsed": 257,
     "status": "ok",
     "timestamp": 1600448320968,
     "user": {
      "displayName": "Tasnuva Tehrin",
      "photoUrl": "",
      "userId": "04231041290543336108"
     },
     "user_tz": 300
    },
    "id": "BMVfy54wJ0nO"
   },
   "outputs": [],
   "source": [
    "from sklearn.metrics import classification_report"
   ]
  },
  {
   "cell_type": "code",
   "execution_count": 76,
   "metadata": {
    "colab": {
     "base_uri": "https://localhost:8080/",
     "height": 51
    },
    "colab_type": "code",
    "executionInfo": {
     "elapsed": 347,
     "status": "ok",
     "timestamp": 1600449266959,
     "user": {
      "displayName": "Tasnuva Tehrin",
      "photoUrl": "",
      "userId": "04231041290543336108"
     },
     "user_tz": 300
    },
    "id": "gtdhS4K4MwKO",
    "outputId": "753001f9-4178-4f58-912b-dacf4c9cba7f"
   },
   "outputs": [
    {
     "name": "stdout",
     "output_type": "stream",
     "text": [
      "Precision Score for Test Set: \n",
      " [0.16049383 0.98113208]\n"
     ]
    }
   ],
   "source": [
    "print(\"Precision Score for Test Set: \\n\", metrics.precision_score(labels_test,best_model.predict(features_test),average=None))"
   ]
  },
  {
   "cell_type": "code",
   "execution_count": 77,
   "metadata": {
    "colab": {
     "base_uri": "https://localhost:8080/",
     "height": 51
    },
    "colab_type": "code",
    "executionInfo": {
     "elapsed": 322,
     "status": "ok",
     "timestamp": 1600449322409,
     "user": {
      "displayName": "Tasnuva Tehrin",
      "photoUrl": "",
      "userId": "04231041290543336108"
     },
     "user_tz": 300
    },
    "id": "SKH4aptpNihe",
    "outputId": "d36f75a4-ff00-45e9-f3af-0b09c883d2aa"
   },
   "outputs": [
    {
     "name": "stdout",
     "output_type": "stream",
     "text": [
      "Recall Score for Test Set: \n",
      " [0.86666667 0.60465116]\n"
     ]
    }
   ],
   "source": [
    "print(\"Recall Score for Test Set: \\n\", metrics.recall_score(labels_test,best_model.predict(features_test),average=None))"
   ]
  },
  {
   "cell_type": "code",
   "execution_count": 79,
   "metadata": {
    "colab": {
     "base_uri": "https://localhost:8080/",
     "height": 51
    },
    "colab_type": "code",
    "executionInfo": {
     "elapsed": 259,
     "status": "ok",
     "timestamp": 1600449422583,
     "user": {
      "displayName": "Tasnuva Tehrin",
      "photoUrl": "",
      "userId": "04231041290543336108"
     },
     "user_tz": 300
    },
    "id": "S9n7bxR8NOW5",
    "outputId": "ff2dd51d-aa55-4b58-e864-44d8492ce5d6"
   },
   "outputs": [
    {
     "name": "stdout",
     "output_type": "stream",
     "text": [
      "f1 Score for Test Set: \n",
      " [0.27083333 0.74820144]\n"
     ]
    }
   ],
   "source": [
    "print(\"f1 Score for Test Set: \\n\", metrics.f1_score(labels_test,best_model.predict(features_test),average=None))"
   ]
  },
  {
   "cell_type": "code",
   "execution_count": 58,
   "metadata": {
    "colab": {
     "base_uri": "https://localhost:8080/",
     "height": 170
    },
    "colab_type": "code",
    "executionInfo": {
     "elapsed": 356,
     "status": "ok",
     "timestamp": 1600448375734,
     "user": {
      "displayName": "Tasnuva Tehrin",
      "photoUrl": "",
      "userId": "04231041290543336108"
     },
     "user_tz": 300
    },
    "id": "HQIvLi7rJ1uO",
    "outputId": "05bff058-52a1-4ee2-c190-05cb386ce04c"
   },
   "outputs": [
    {
     "name": "stdout",
     "output_type": "stream",
     "text": [
      "              precision    recall  f1-score   support\n",
      "\n",
      "           0       0.16      0.87      0.27        15\n",
      "           1       0.98      0.60      0.75       172\n",
      "\n",
      "    accuracy                           0.63       187\n",
      "   macro avg       0.57      0.74      0.51       187\n",
      "weighted avg       0.92      0.63      0.71       187\n",
      "\n"
     ]
    }
   ],
   "source": [
    "print(classification_report(labels_test,best_model.predict(features_test)))"
   ]
  }
 ],
 "metadata": {
  "colab": {
   "authorship_tag": "ABX9TyMhhQFWbD0gYQySu6XVLTj5",
   "collapsed_sections": [],
   "name": "ML Challenge 1.ipynb",
   "provenance": []
  },
  "kernelspec": {
   "display_name": "Python 3",
   "language": "python",
   "name": "python3"
  },
  "language_info": {
   "codemirror_mode": {
    "name": "ipython",
    "version": 3
   },
   "file_extension": ".py",
   "mimetype": "text/x-python",
   "name": "python",
   "nbconvert_exporter": "python",
   "pygments_lexer": "ipython3",
   "version": "3.8.5"
  }
 },
 "nbformat": 4,
 "nbformat_minor": 1
}

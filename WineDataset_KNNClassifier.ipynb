{
 "cells": [
  {
   "cell_type": "markdown",
   "metadata": {},
   "source": [
    "# The purpose of this project is to determine the quality of wine which is provided as label based on the various chemicals present in them as features\n",
    "\n",
    "## tool used for data preprocessing: pandas\n",
    "\n",
    "## tool used for visualization : matplotlib\n",
    "\n",
    "## model used for prediction: KNN Classifer with random and grid search and also used different parameters to measure the distance between nodes, the number of neighbours to be selected\n",
    "\n",
    "## tools used for data validation: Repeated K Fold cross validation"
   ]
  },
  {
   "cell_type": "code",
   "execution_count": 6,
   "metadata": {
    "executionInfo": {
     "elapsed": 228,
     "status": "ok",
     "timestamp": 1601655573082,
     "user": {
      "displayName": "Tasnuva Tehrin",
      "photoUrl": "",
      "userId": "04231041290543336108"
     },
     "user_tz": 300
    },
    "id": "G-c9W09es2xF"
   },
   "outputs": [],
   "source": [
    "from google.colab import drive"
   ]
  },
  {
   "cell_type": "code",
   "execution_count": 7,
   "metadata": {
    "colab": {
     "base_uri": "https://localhost:8080/",
     "height": 34
    },
    "executionInfo": {
     "elapsed": 206,
     "status": "ok",
     "timestamp": 1601655574176,
     "user": {
      "displayName": "Tasnuva Tehrin",
      "photoUrl": "",
      "userId": "04231041290543336108"
     },
     "user_tz": 300
    },
    "id": "8TetB-kytWRK",
    "outputId": "61dbebcf-f9b0-47ec-da6e-e0702ef09499"
   },
   "outputs": [
    {
     "name": "stdout",
     "output_type": "stream",
     "text": [
      "Drive already mounted at /content/drive; to attempt to forcibly remount, call drive.mount(\"/content/drive\", force_remount=True).\n"
     ]
    }
   ],
   "source": [
    "drive.mount('/content/drive')"
   ]
  },
  {
   "cell_type": "code",
   "execution_count": 8,
   "metadata": {
    "colab": {
     "base_uri": "https://localhost:8080/",
     "height": 204
    },
    "executionInfo": {
     "elapsed": 308,
     "status": "ok",
     "timestamp": 1601655575531,
     "user": {
      "displayName": "Tasnuva Tehrin",
      "photoUrl": "",
      "userId": "04231041290543336108"
     },
     "user_tz": 300
    },
    "id": "0eRJAXvgtYxn",
    "outputId": "4b748736-06db-4053-cb66-087f75e29900"
   },
   "outputs": [
    {
     "name": "stdout",
     "output_type": "stream",
     "text": [
      "/content/drive/My Drive/Colab Notebooks\n",
      " abalone.data                homework01.ipynb           'Practise 2.ipynb'\n",
      " bpRNA_CRW_2852.ct           homework02.ipynb            Protein_Project.ipynb\n",
      " bpRNA_CRW_2852.st           homework03.ipynb            SPECT.test\n",
      " breast-cancer.data          homework05.ipynb            SPECT.train\n",
      " car.data                    iris_tree.dot               transfusion.data\n",
      " car.dot                     iris_tree.png               tree.dot\n",
      " car_model.dot              'ML Challenge 1.ipynb'       tree.png\n",
      " car.png                    'ML Challenge II .ipynb'     weather.csv\n",
      "'Copy of homework05.ipynb'   Perceptron_practise.ipynb   weather.ipynb\n",
      " ecoli.data                 'Practise 1.ipynb'           wine.data\n"
     ]
    }
   ],
   "source": [
    "%cd /content/drive/'My Drive'/'Colab Notebooks'\n",
    "%ls"
   ]
  },
  {
   "cell_type": "code",
   "execution_count": 9,
   "metadata": {
    "executionInfo": {
     "elapsed": 180,
     "status": "ok",
     "timestamp": 1601655577817,
     "user": {
      "displayName": "Tasnuva Tehrin",
      "photoUrl": "",
      "userId": "04231041290543336108"
     },
     "user_tz": 300
    },
    "id": "CcnWJxu1tjUY"
   },
   "outputs": [],
   "source": [
    "import pandas as pd\n",
    "import numpy as np"
   ]
  },
  {
   "cell_type": "code",
   "execution_count": 12,
   "metadata": {
    "colab": {
     "base_uri": "https://localhost:8080/",
     "height": 419
    },
    "executionInfo": {
     "elapsed": 203,
     "status": "ok",
     "timestamp": 1601655631876,
     "user": {
      "displayName": "Tasnuva Tehrin",
      "photoUrl": "",
      "userId": "04231041290543336108"
     },
     "user_tz": 300
    },
    "id": "aiL6FdWOHD73",
    "outputId": "9659fefd-b296-4218-b5e1-634791ac9221"
   },
   "outputs": [
    {
     "data": {
      "text/html": [
       "<div>\n",
       "<style scoped>\n",
       "    .dataframe tbody tr th:only-of-type {\n",
       "        vertical-align: middle;\n",
       "    }\n",
       "\n",
       "    .dataframe tbody tr th {\n",
       "        vertical-align: top;\n",
       "    }\n",
       "\n",
       "    .dataframe thead th {\n",
       "        text-align: right;\n",
       "    }\n",
       "</style>\n",
       "<table border=\"1\" class=\"dataframe\">\n",
       "  <thead>\n",
       "    <tr style=\"text-align: right;\">\n",
       "      <th></th>\n",
       "      <th>Label</th>\n",
       "      <th>F1</th>\n",
       "      <th>F2</th>\n",
       "      <th>F3</th>\n",
       "      <th>F4</th>\n",
       "      <th>F5</th>\n",
       "      <th>F6</th>\n",
       "      <th>F7</th>\n",
       "      <th>F8</th>\n",
       "      <th>F9</th>\n",
       "      <th>F10</th>\n",
       "      <th>F11</th>\n",
       "      <th>F12</th>\n",
       "      <th>F13</th>\n",
       "    </tr>\n",
       "  </thead>\n",
       "  <tbody>\n",
       "    <tr>\n",
       "      <th>0</th>\n",
       "      <td>1</td>\n",
       "      <td>14.23</td>\n",
       "      <td>1.71</td>\n",
       "      <td>2.43</td>\n",
       "      <td>15.6</td>\n",
       "      <td>127</td>\n",
       "      <td>2.80</td>\n",
       "      <td>3.06</td>\n",
       "      <td>0.28</td>\n",
       "      <td>2.29</td>\n",
       "      <td>5.64</td>\n",
       "      <td>1.04</td>\n",
       "      <td>3.92</td>\n",
       "      <td>1065</td>\n",
       "    </tr>\n",
       "    <tr>\n",
       "      <th>1</th>\n",
       "      <td>1</td>\n",
       "      <td>13.20</td>\n",
       "      <td>1.78</td>\n",
       "      <td>2.14</td>\n",
       "      <td>11.2</td>\n",
       "      <td>100</td>\n",
       "      <td>2.65</td>\n",
       "      <td>2.76</td>\n",
       "      <td>0.26</td>\n",
       "      <td>1.28</td>\n",
       "      <td>4.38</td>\n",
       "      <td>1.05</td>\n",
       "      <td>3.40</td>\n",
       "      <td>1050</td>\n",
       "    </tr>\n",
       "    <tr>\n",
       "      <th>2</th>\n",
       "      <td>1</td>\n",
       "      <td>13.16</td>\n",
       "      <td>2.36</td>\n",
       "      <td>2.67</td>\n",
       "      <td>18.6</td>\n",
       "      <td>101</td>\n",
       "      <td>2.80</td>\n",
       "      <td>3.24</td>\n",
       "      <td>0.30</td>\n",
       "      <td>2.81</td>\n",
       "      <td>5.68</td>\n",
       "      <td>1.03</td>\n",
       "      <td>3.17</td>\n",
       "      <td>1185</td>\n",
       "    </tr>\n",
       "    <tr>\n",
       "      <th>3</th>\n",
       "      <td>1</td>\n",
       "      <td>14.37</td>\n",
       "      <td>1.95</td>\n",
       "      <td>2.50</td>\n",
       "      <td>16.8</td>\n",
       "      <td>113</td>\n",
       "      <td>3.85</td>\n",
       "      <td>3.49</td>\n",
       "      <td>0.24</td>\n",
       "      <td>2.18</td>\n",
       "      <td>7.80</td>\n",
       "      <td>0.86</td>\n",
       "      <td>3.45</td>\n",
       "      <td>1480</td>\n",
       "    </tr>\n",
       "    <tr>\n",
       "      <th>4</th>\n",
       "      <td>1</td>\n",
       "      <td>13.24</td>\n",
       "      <td>2.59</td>\n",
       "      <td>2.87</td>\n",
       "      <td>21.0</td>\n",
       "      <td>118</td>\n",
       "      <td>2.80</td>\n",
       "      <td>2.69</td>\n",
       "      <td>0.39</td>\n",
       "      <td>1.82</td>\n",
       "      <td>4.32</td>\n",
       "      <td>1.04</td>\n",
       "      <td>2.93</td>\n",
       "      <td>735</td>\n",
       "    </tr>\n",
       "    <tr>\n",
       "      <th>...</th>\n",
       "      <td>...</td>\n",
       "      <td>...</td>\n",
       "      <td>...</td>\n",
       "      <td>...</td>\n",
       "      <td>...</td>\n",
       "      <td>...</td>\n",
       "      <td>...</td>\n",
       "      <td>...</td>\n",
       "      <td>...</td>\n",
       "      <td>...</td>\n",
       "      <td>...</td>\n",
       "      <td>...</td>\n",
       "      <td>...</td>\n",
       "      <td>...</td>\n",
       "    </tr>\n",
       "    <tr>\n",
       "      <th>173</th>\n",
       "      <td>3</td>\n",
       "      <td>13.71</td>\n",
       "      <td>5.65</td>\n",
       "      <td>2.45</td>\n",
       "      <td>20.5</td>\n",
       "      <td>95</td>\n",
       "      <td>1.68</td>\n",
       "      <td>0.61</td>\n",
       "      <td>0.52</td>\n",
       "      <td>1.06</td>\n",
       "      <td>7.70</td>\n",
       "      <td>0.64</td>\n",
       "      <td>1.74</td>\n",
       "      <td>740</td>\n",
       "    </tr>\n",
       "    <tr>\n",
       "      <th>174</th>\n",
       "      <td>3</td>\n",
       "      <td>13.40</td>\n",
       "      <td>3.91</td>\n",
       "      <td>2.48</td>\n",
       "      <td>23.0</td>\n",
       "      <td>102</td>\n",
       "      <td>1.80</td>\n",
       "      <td>0.75</td>\n",
       "      <td>0.43</td>\n",
       "      <td>1.41</td>\n",
       "      <td>7.30</td>\n",
       "      <td>0.70</td>\n",
       "      <td>1.56</td>\n",
       "      <td>750</td>\n",
       "    </tr>\n",
       "    <tr>\n",
       "      <th>175</th>\n",
       "      <td>3</td>\n",
       "      <td>13.27</td>\n",
       "      <td>4.28</td>\n",
       "      <td>2.26</td>\n",
       "      <td>20.0</td>\n",
       "      <td>120</td>\n",
       "      <td>1.59</td>\n",
       "      <td>0.69</td>\n",
       "      <td>0.43</td>\n",
       "      <td>1.35</td>\n",
       "      <td>10.20</td>\n",
       "      <td>0.59</td>\n",
       "      <td>1.56</td>\n",
       "      <td>835</td>\n",
       "    </tr>\n",
       "    <tr>\n",
       "      <th>176</th>\n",
       "      <td>3</td>\n",
       "      <td>13.17</td>\n",
       "      <td>2.59</td>\n",
       "      <td>2.37</td>\n",
       "      <td>20.0</td>\n",
       "      <td>120</td>\n",
       "      <td>1.65</td>\n",
       "      <td>0.68</td>\n",
       "      <td>0.53</td>\n",
       "      <td>1.46</td>\n",
       "      <td>9.30</td>\n",
       "      <td>0.60</td>\n",
       "      <td>1.62</td>\n",
       "      <td>840</td>\n",
       "    </tr>\n",
       "    <tr>\n",
       "      <th>177</th>\n",
       "      <td>3</td>\n",
       "      <td>14.13</td>\n",
       "      <td>4.10</td>\n",
       "      <td>2.74</td>\n",
       "      <td>24.5</td>\n",
       "      <td>96</td>\n",
       "      <td>2.05</td>\n",
       "      <td>0.76</td>\n",
       "      <td>0.56</td>\n",
       "      <td>1.35</td>\n",
       "      <td>9.20</td>\n",
       "      <td>0.61</td>\n",
       "      <td>1.60</td>\n",
       "      <td>560</td>\n",
       "    </tr>\n",
       "  </tbody>\n",
       "</table>\n",
       "<p>178 rows × 14 columns</p>\n",
       "</div>"
      ],
      "text/plain": [
       "     Label     F1    F2    F3    F4   F5  ...    F8    F9    F10   F11   F12   F13\n",
       "0        1  14.23  1.71  2.43  15.6  127  ...  0.28  2.29   5.64  1.04  3.92  1065\n",
       "1        1  13.20  1.78  2.14  11.2  100  ...  0.26  1.28   4.38  1.05  3.40  1050\n",
       "2        1  13.16  2.36  2.67  18.6  101  ...  0.30  2.81   5.68  1.03  3.17  1185\n",
       "3        1  14.37  1.95  2.50  16.8  113  ...  0.24  2.18   7.80  0.86  3.45  1480\n",
       "4        1  13.24  2.59  2.87  21.0  118  ...  0.39  1.82   4.32  1.04  2.93   735\n",
       "..     ...    ...   ...   ...   ...  ...  ...   ...   ...    ...   ...   ...   ...\n",
       "173      3  13.71  5.65  2.45  20.5   95  ...  0.52  1.06   7.70  0.64  1.74   740\n",
       "174      3  13.40  3.91  2.48  23.0  102  ...  0.43  1.41   7.30  0.70  1.56   750\n",
       "175      3  13.27  4.28  2.26  20.0  120  ...  0.43  1.35  10.20  0.59  1.56   835\n",
       "176      3  13.17  2.59  2.37  20.0  120  ...  0.53  1.46   9.30  0.60  1.62   840\n",
       "177      3  14.13  4.10  2.74  24.5   96  ...  0.56  1.35   9.20  0.61  1.60   560\n",
       "\n",
       "[178 rows x 14 columns]"
      ]
     },
     "execution_count": 12,
     "metadata": {
      "tags": []
     },
     "output_type": "execute_result"
    }
   ],
   "source": [
    "import pandas as pd\n",
    "wine_data = pd.read_csv('wine.data', header=None)\n",
    "wine_data.columns = ['Label']+[ 'F'+str(i) for i in range(1,14)]\n",
    "wine_data"
   ]
  },
  {
   "cell_type": "code",
   "execution_count": 14,
   "metadata": {
    "executionInfo": {
     "elapsed": 230,
     "status": "ok",
     "timestamp": 1601655938329,
     "user": {
      "displayName": "Tasnuva Tehrin",
      "photoUrl": "",
      "userId": "04231041290543336108"
     },
     "user_tz": 300
    },
    "id": "pnrE8rMoIODL"
   },
   "outputs": [],
   "source": [
    "features = wine_data.drop(['Label'],axis=1)"
   ]
  },
  {
   "cell_type": "code",
   "execution_count": 17,
   "metadata": {
    "executionInfo": {
     "elapsed": 234,
     "status": "ok",
     "timestamp": 1601656015510,
     "user": {
      "displayName": "Tasnuva Tehrin",
      "photoUrl": "",
      "userId": "04231041290543336108"
     },
     "user_tz": 300
    },
    "id": "DyWQ1amoIiO4"
   },
   "outputs": [],
   "source": [
    "label = wine_data['Label']"
   ]
  },
  {
   "cell_type": "code",
   "execution_count": 13,
   "metadata": {
    "executionInfo": {
     "elapsed": 822,
     "status": "ok",
     "timestamp": 1601655847806,
     "user": {
      "displayName": "Tasnuva Tehrin",
      "photoUrl": "",
      "userId": "04231041290543336108"
     },
     "user_tz": 300
    },
    "id": "oO5exNEWHdRw"
   },
   "outputs": [],
   "source": [
    "from sklearn.model_selection import train_test_split"
   ]
  },
  {
   "cell_type": "code",
   "execution_count": 18,
   "metadata": {
    "executionInfo": {
     "elapsed": 197,
     "status": "ok",
     "timestamp": 1601656016541,
     "user": {
      "displayName": "Tasnuva Tehrin",
      "photoUrl": "",
      "userId": "04231041290543336108"
     },
     "user_tz": 300
    },
    "id": "eLu7GptrHM2J"
   },
   "outputs": [],
   "source": [
    "wine_train, wine_test, y_train, y_test = train_test_split(features, label, test_size=0.3, random_state=42)"
   ]
  },
  {
   "cell_type": "code",
   "execution_count": 22,
   "metadata": {
    "executionInfo": {
     "elapsed": 181,
     "status": "ok",
     "timestamp": 1601656349569,
     "user": {
      "displayName": "Tasnuva Tehrin",
      "photoUrl": "",
      "userId": "04231041290543336108"
     },
     "user_tz": 300
    },
    "id": "Plxnd2w3JQ-j"
   },
   "outputs": [],
   "source": [
    "from sklearn.model_selection import GridSearchCV\n",
    "from sklearn.model_selection import RandomizedSearchCV\n",
    "from sklearn.neighbors import KNeighborsClassifier\n",
    "import scipy.spatial.distance as distance\n",
    "import numpy as np\n",
    "def chi_square_distance(X, Y):\n",
    "    with np.errstate(divide=\"ignore\", invalid=\"ignore\"):\n",
    "        return (1 / 2) * np.sum(np.nan_to_num((np.square(X - Y) / (X + Y))))\n",
    "\n",
    "n_neighbors = [int(x) for x in np.linspace(1, 15, num = 15)]\n",
    "metric = [chi_square_distance, distance.euclidean, distance.minkowski, distance.cosine]\n",
    "param_distribs = {'n_neighbors':n_neighbors,'metric': metric}\n",
    "estimator = KNeighborsClassifier()\n",
    "\n",
    "## we are using repeated cross-validation here. This means the cross-validation will be repeatedly run multiple times to get more robust error estimation. The key changes are highlighted\n",
    "from sklearn.model_selection import RepeatedKFold\n",
    "skfold = RepeatedKFold(n_splits=10,n_repeats=10,random_state=1)"
   ]
  },
  {
   "cell_type": "code",
   "execution_count": 24,
   "metadata": {
    "colab": {
     "base_uri": "https://localhost:8080/",
     "height": 323
    },
    "executionInfo": {
     "elapsed": 50347,
     "status": "ok",
     "timestamp": 1601656424025,
     "user": {
      "displayName": "Tasnuva Tehrin",
      "photoUrl": "",
      "userId": "04231041290543336108"
     },
     "user_tz": 300
    },
    "id": "TUNP2d-2Jlhi",
    "outputId": "b8bad303-2a82-4550-c277-893fa203512b"
   },
   "outputs": [
    {
     "data": {
      "text/plain": [
       "RandomizedSearchCV(cv=RepeatedKFold(n_repeats=10, n_splits=10, random_state=1),\n",
       "                   error_score=nan,\n",
       "                   estimator=KNeighborsClassifier(algorithm='auto',\n",
       "                                                  leaf_size=30,\n",
       "                                                  metric='minkowski',\n",
       "                                                  metric_params=None,\n",
       "                                                  n_jobs=None, n_neighbors=5,\n",
       "                                                  p=2, weights='uniform'),\n",
       "                   iid='deprecated', n_iter=10, n_jobs=5,\n",
       "                   param_distributions={'metric': [<function chi_square_distance at 0x7fc679409b70>,\n",
       "                                                   <function euclidean at 0x7fc68a5da620>,\n",
       "                                                   <function minkowski at 0x7fc68a5da510>,\n",
       "                                                   <function cosine at 0x7fc68a5da7b8>],\n",
       "                                        'n_neighbors': [1, 2, 3, 4, 5, 6, 7, 8,\n",
       "                                                        9, 10, 11, 12, 13, 14,\n",
       "                                                        15]},\n",
       "                   pre_dispatch='2*n_jobs', random_state=None, refit=True,\n",
       "                   return_train_score=False, scoring=None, verbose=0)"
      ]
     },
     "execution_count": 24,
     "metadata": {
      "tags": []
     },
     "output_type": "execute_result"
    }
   ],
   "source": [
    "wine_grid_search = RandomizedSearchCV(estimator, param_distribs, n_jobs=5,cv=skfold)\n",
    "wine_grid_search.fit(wine_train,y_train)"
   ]
  },
  {
   "cell_type": "code",
   "execution_count": 25,
   "metadata": {
    "executionInfo": {
     "elapsed": 172,
     "status": "ok",
     "timestamp": 1601656563839,
     "user": {
      "displayName": "Tasnuva Tehrin",
      "photoUrl": "",
      "userId": "04231041290543336108"
     },
     "user_tz": 300
    },
    "id": "tz7OfOwHJ6uT"
   },
   "outputs": [],
   "source": [
    "wine_best_model = wine_grid_search.best_estimator_ "
   ]
  },
  {
   "cell_type": "code",
   "execution_count": 26,
   "metadata": {
    "colab": {
     "base_uri": "https://localhost:8080/",
     "height": 85
    },
    "executionInfo": {
     "elapsed": 163,
     "status": "ok",
     "timestamp": 1601656571008,
     "user": {
      "displayName": "Tasnuva Tehrin",
      "photoUrl": "",
      "userId": "04231041290543336108"
     },
     "user_tz": 300
    },
    "id": "cFCO26TJK7J6",
    "outputId": "8e249e8f-e1d7-43a2-d35e-a70128553108"
   },
   "outputs": [
    {
     "data": {
      "text/plain": [
       "KNeighborsClassifier(algorithm='auto', leaf_size=30,\n",
       "                     metric=<function chi_square_distance at 0x7fc679409b70>,\n",
       "                     metric_params=None, n_jobs=None, n_neighbors=3, p=2,\n",
       "                     weights='uniform')"
      ]
     },
     "execution_count": 26,
     "metadata": {
      "tags": []
     },
     "output_type": "execute_result"
    }
   ],
   "source": [
    "wine_best_model"
   ]
  },
  {
   "cell_type": "code",
   "execution_count": 27,
   "metadata": {
    "executionInfo": {
     "elapsed": 175,
     "status": "ok",
     "timestamp": 1601656620015,
     "user": {
      "displayName": "Tasnuva Tehrin",
      "photoUrl": "",
      "userId": "04231041290543336108"
     },
     "user_tz": 300
    },
    "id": "L4rUdSZaK8z0"
   },
   "outputs": [],
   "source": [
    "from sklearn.model_selection import cross_val_score"
   ]
  },
  {
   "cell_type": "code",
   "execution_count": 28,
   "metadata": {
    "colab": {
     "base_uri": "https://localhost:8080/",
     "height": 34
    },
    "executionInfo": {
     "elapsed": 870,
     "status": "ok",
     "timestamp": 1601656678518,
     "user": {
      "displayName": "Tasnuva Tehrin",
      "photoUrl": "",
      "userId": "04231041290543336108"
     },
     "user_tz": 300
    },
    "id": "HlfACFcXLI3o",
    "outputId": "73da3b42-b2ae-4872-9ae8-6312ec4c79a1"
   },
   "outputs": [
    {
     "name": "stdout",
     "output_type": "stream",
     "text": [
      "Cross-validation Accuracy on wine train data set:  0.8865384615384617\n"
     ]
    }
   ],
   "source": [
    "print('Cross-validation Accuracy on wine train data set: ',cross_val_score(wine_best_model,wine_train,y_train,cv=10).mean())"
   ]
  },
  {
   "cell_type": "code",
   "execution_count": 29,
   "metadata": {
    "executionInfo": {
     "elapsed": 173,
     "status": "ok",
     "timestamp": 1601656775488,
     "user": {
      "displayName": "Tasnuva Tehrin",
      "photoUrl": "",
      "userId": "04231041290543336108"
     },
     "user_tz": 300
    },
    "id": "mqlcmhXbLgBW"
   },
   "outputs": [],
   "source": [
    "from sklearn.metrics import accuracy_score"
   ]
  },
  {
   "cell_type": "code",
   "execution_count": 30,
   "metadata": {
    "colab": {
     "base_uri": "https://localhost:8080/",
     "height": 34
    },
    "executionInfo": {
     "elapsed": 335,
     "status": "ok",
     "timestamp": 1601656844448,
     "user": {
      "displayName": "Tasnuva Tehrin",
      "photoUrl": "",
      "userId": "04231041290543336108"
     },
     "user_tz": 300
    },
    "id": "LEojLjg8LueY",
    "outputId": "9b0fbabe-7a23-4a12-d8b6-83719c22f375"
   },
   "outputs": [
    {
     "name": "stdout",
     "output_type": "stream",
     "text": [
      "Accuracy on wine test dataset:  0.9629629629629629\n"
     ]
    }
   ],
   "source": [
    "print('Accuracy on wine test dataset: ',accuracy_score(wine_best_model.predict(wine_test), y_test))"
   ]
  },
  {
   "cell_type": "code",
   "execution_count": 103,
   "metadata": {
    "executionInfo": {
     "elapsed": 914,
     "status": "ok",
     "timestamp": 1601662298469,
     "user": {
      "displayName": "Tasnuva Tehrin",
      "photoUrl": "",
      "userId": "04231041290543336108"
     },
     "user_tz": 300
    },
    "id": "DGpqy8cEggnv"
   },
   "outputs": [],
   "source": [
    "cross_val_original_data = cross_val_score(wine_best_model,wine_train,y_train,cv=10)"
   ]
  },
  {
   "cell_type": "code",
   "execution_count": 104,
   "metadata": {
    "colab": {
     "base_uri": "https://localhost:8080/",
     "height": 51
    },
    "executionInfo": {
     "elapsed": 163,
     "status": "ok",
     "timestamp": 1601662314177,
     "user": {
      "displayName": "Tasnuva Tehrin",
      "photoUrl": "",
      "userId": "04231041290543336108"
     },
     "user_tz": 300
    },
    "id": "SSUo2z5tg1SX",
    "outputId": "c5656df2-0dd0-471f-c66a-952966dcdead"
   },
   "outputs": [
    {
     "data": {
      "text/plain": [
       "array([0.76923077, 0.92307692, 0.92307692, 1.        , 0.83333333,\n",
       "       0.75      , 0.83333333, 1.        , 0.91666667, 0.91666667])"
      ]
     },
     "execution_count": 104,
     "metadata": {
      "tags": []
     },
     "output_type": "execute_result"
    }
   ],
   "source": [
    "cross_val_original_data"
   ]
  },
  {
   "cell_type": "code",
   "execution_count": 41,
   "metadata": {
    "executionInfo": {
     "elapsed": 350,
     "status": "ok",
     "timestamp": 1601657943622,
     "user": {
      "displayName": "Tasnuva Tehrin",
      "photoUrl": "",
      "userId": "04231041290543336108"
     },
     "user_tz": 300
    },
    "id": "WKAhNB7wMD4G"
   },
   "outputs": [],
   "source": [
    "from sklearn.preprocessing import StandardScaler\n",
    "scaler = StandardScaler()\n",
    "wine_data_train_scaled= scaler.fit_transform(wine_train)\n",
    "\n",
    "\n",
    "\n"
   ]
  },
  {
   "cell_type": "code",
   "execution_count": 43,
   "metadata": {
    "executionInfo": {
     "elapsed": 192,
     "status": "ok",
     "timestamp": 1601657994925,
     "user": {
      "displayName": "Tasnuva Tehrin",
      "photoUrl": "",
      "userId": "04231041290543336108"
     },
     "user_tz": 300
    },
    "id": "6JC8GvBMOkIq"
   },
   "outputs": [],
   "source": [
    "wine_data_test_scaled = scaler.fit_transform(wine_test)"
   ]
  },
  {
   "cell_type": "code",
   "execution_count": 45,
   "metadata": {
    "colab": {
     "base_uri": "https://localhost:8080/",
     "height": 323
    },
    "executionInfo": {
     "elapsed": 46924,
     "status": "ok",
     "timestamp": 1601658061090,
     "user": {
      "displayName": "Tasnuva Tehrin",
      "photoUrl": "",
      "userId": "04231041290543336108"
     },
     "user_tz": 300
    },
    "id": "uchO4r7uPWby",
    "outputId": "24139771-9773-4ae7-b755-61ea8e67a9fc"
   },
   "outputs": [
    {
     "data": {
      "text/plain": [
       "RandomizedSearchCV(cv=RepeatedKFold(n_repeats=10, n_splits=10, random_state=1),\n",
       "                   error_score=nan,\n",
       "                   estimator=KNeighborsClassifier(algorithm='auto',\n",
       "                                                  leaf_size=30,\n",
       "                                                  metric='minkowski',\n",
       "                                                  metric_params=None,\n",
       "                                                  n_jobs=None, n_neighbors=5,\n",
       "                                                  p=2, weights='uniform'),\n",
       "                   iid='deprecated', n_iter=10, n_jobs=5,\n",
       "                   param_distributions={'metric': [<function chi_square_distance at 0x7fc679409b70>,\n",
       "                                                   <function euclidean at 0x7fc68a5da620>,\n",
       "                                                   <function minkowski at 0x7fc68a5da510>,\n",
       "                                                   <function cosine at 0x7fc68a5da7b8>],\n",
       "                                        'n_neighbors': [1, 2, 3, 4, 5, 6, 7, 8,\n",
       "                                                        9, 10, 11, 12, 13, 14,\n",
       "                                                        15]},\n",
       "                   pre_dispatch='2*n_jobs', random_state=None, refit=True,\n",
       "                   return_train_score=False, scoring=None, verbose=0)"
      ]
     },
     "execution_count": 45,
     "metadata": {
      "tags": []
     },
     "output_type": "execute_result"
    }
   ],
   "source": [
    "wine_random_search_scaled = RandomizedSearchCV(estimator, param_distribs, n_jobs=5,cv=skfold)\n",
    "wine_random_search_scaled.fit(wine_data_train_scaled,y_train)"
   ]
  },
  {
   "cell_type": "code",
   "execution_count": 46,
   "metadata": {
    "executionInfo": {
     "elapsed": 165,
     "status": "ok",
     "timestamp": 1601658163557,
     "user": {
      "displayName": "Tasnuva Tehrin",
      "photoUrl": "",
      "userId": "04231041290543336108"
     },
     "user_tz": 300
    },
    "id": "b3eonsOMQwlL"
   },
   "outputs": [],
   "source": [
    "wine_scaled_best_model = wine_random_search_scaled.best_estimator_ "
   ]
  },
  {
   "cell_type": "code",
   "execution_count": 90,
   "metadata": {
    "executionInfo": {
     "elapsed": 471,
     "status": "ok",
     "timestamp": 1601661341001,
     "user": {
      "displayName": "Tasnuva Tehrin",
      "photoUrl": "",
      "userId": "04231041290543336108"
     },
     "user_tz": 300
    },
    "id": "R-ik94uoSn7s"
   },
   "outputs": [],
   "source": [
    "cross_val_scaled_data = cross_val_score(wine_scaled_best_model,wine_data_train_scaled,y_train,cv=10)"
   ]
  },
  {
   "cell_type": "code",
   "execution_count": 91,
   "metadata": {
    "colab": {
     "base_uri": "https://localhost:8080/",
     "height": 51
    },
    "executionInfo": {
     "elapsed": 183,
     "status": "ok",
     "timestamp": 1601661342173,
     "user": {
      "displayName": "Tasnuva Tehrin",
      "photoUrl": "",
      "userId": "04231041290543336108"
     },
     "user_tz": 300
    },
    "id": "tcjRHD3adFzi",
    "outputId": "961e0f79-f269-4757-9fa6-7715636b5b24"
   },
   "outputs": [
    {
     "data": {
      "text/plain": [
       "array([1.        , 0.92307692, 0.92307692, 1.        , 0.91666667,\n",
       "       1.        , 0.91666667, 1.        , 1.        , 0.91666667])"
      ]
     },
     "execution_count": 91,
     "metadata": {
      "tags": []
     },
     "output_type": "execute_result"
    }
   ],
   "source": [
    "cross_val_scaled_data"
   ]
  },
  {
   "cell_type": "code",
   "execution_count": 87,
   "metadata": {
    "colab": {
     "base_uri": "https://localhost:8080/",
     "height": 34
    },
    "executionInfo": {
     "elapsed": 511,
     "status": "ok",
     "timestamp": 1601661325224,
     "user": {
      "displayName": "Tasnuva Tehrin",
      "photoUrl": "",
      "userId": "04231041290543336108"
     },
     "user_tz": 300
    },
    "id": "RIcRjm9FRBeu",
    "outputId": "6cf1dcbd-ebf1-4122-e1a4-d7a85492846a"
   },
   "outputs": [
    {
     "name": "stdout",
     "output_type": "stream",
     "text": [
      "Cross-validation Accuracy on scaled wine train data set:  0.9596153846153845\n"
     ]
    }
   ],
   "source": [
    "print('Cross-validation Accuracy on scaled wine train data set: ',cross_val_score(wine_scaled_best_model,wine_data_train_scaled,y_train,cv=10).mean())"
   ]
  },
  {
   "cell_type": "code",
   "execution_count": 54,
   "metadata": {
    "executionInfo": {
     "elapsed": 264,
     "status": "ok",
     "timestamp": 1601658881254,
     "user": {
      "displayName": "Tasnuva Tehrin",
      "photoUrl": "",
      "userId": "04231041290543336108"
     },
     "user_tz": 300
    },
    "id": "5EU5DpkRTqCy"
   },
   "outputs": [],
   "source": [
    "accuracy_score_scaled = accuracy_score(wine_scaled_best_model.predict(wine_data_test_scaled), y_test)"
   ]
  },
  {
   "cell_type": "code",
   "execution_count": 49,
   "metadata": {
    "colab": {
     "base_uri": "https://localhost:8080/",
     "height": 34
    },
    "executionInfo": {
     "elapsed": 338,
     "status": "ok",
     "timestamp": 1601658315390,
     "user": {
      "displayName": "Tasnuva Tehrin",
      "photoUrl": "",
      "userId": "04231041290543336108"
     },
     "user_tz": 300
    },
    "id": "z2PiFgsYRWNr",
    "outputId": "31e82d64-ec53-40b8-cbbd-35657ef63dcf"
   },
   "outputs": [
    {
     "name": "stdout",
     "output_type": "stream",
     "text": [
      "Accuracy on wine  scaled test dataset:  0.9444444444444444\n"
     ]
    }
   ],
   "source": [
    "print('Accuracy on wine  scaled test dataset: ',accuracy_score(wine_scaled_best_model.predict(wine_data_test_scaled), y_test))"
   ]
  },
  {
   "cell_type": "code",
   "execution_count": 100,
   "metadata": {
    "executionInfo": {
     "elapsed": 172,
     "status": "ok",
     "timestamp": 1601662163388,
     "user": {
      "displayName": "Tasnuva Tehrin",
      "photoUrl": "",
      "userId": "04231041290543336108"
     },
     "user_tz": 300
    },
    "id": "krqeydSweRnV"
   },
   "outputs": [],
   "source": [
    "total_k = [1,2,3,4,5,6,7,8,9,10]\n"
   ]
  },
  {
   "cell_type": "code",
   "execution_count": 105,
   "metadata": {
    "colab": {
     "base_uri": "https://localhost:8080/",
     "height": 282
    },
    "executionInfo": {
     "elapsed": 394,
     "status": "ok",
     "timestamp": 1601662334729,
     "user": {
      "displayName": "Tasnuva Tehrin",
      "photoUrl": "",
      "userId": "04231041290543336108"
     },
     "user_tz": 300
    },
    "id": "vY6mqku0g5Ef",
    "outputId": "0c57308d-6f27-47cf-fc96-a67fc2baad9e"
   },
   "outputs": [
    {
     "data": {
      "text/plain": [
       "[<matplotlib.lines.Line2D at 0x7fc678b79d30>]"
      ]
     },
     "execution_count": 105,
     "metadata": {
      "tags": []
     },
     "output_type": "execute_result"
    },
    {
     "data": {
      "image/png": "[encoded data removed]",
      "text/plain": [
       "<Figure size 432x288 with 1 Axes>"
      ]
     },
     "metadata": {
      "needs_background": "light",
      "tags": []
     },
     "output_type": "display_data"
    }
   ],
   "source": [
    "plt.plot(total_k,cross_val_original_data)"
   ]
  },
  {
   "cell_type": "code",
   "execution_count": 101,
   "metadata": {
    "colab": {
     "base_uri": "https://localhost:8080/",
     "height": 282
    },
    "executionInfo": {
     "elapsed": 324,
     "status": "ok",
     "timestamp": 1601662164268,
     "user": {
      "displayName": "Tasnuva Tehrin",
      "photoUrl": "",
      "userId": "04231041290543336108"
     },
     "user_tz": 300
    },
    "id": "bqPzMCs1YTKo",
    "outputId": "4a53ab8f-021b-4c55-fa16-4a479b1bd80a"
   },
   "outputs": [
    {
     "data": {
      "text/plain": [
       "[<matplotlib.lines.Line2D at 0x7fc677375898>]"
      ]
     },
     "execution_count": 101,
     "metadata": {
      "tags": []
     },
     "output_type": "execute_result"
    },
    {
     "data": {
      "image/png": "[encoded data removed]",
      "text/plain": [
       "<Figure size 432x288 with 1 Axes>"
      ]
     },
     "metadata": {
      "needs_background": "light",
      "tags": []
     },
     "output_type": "display_data"
    }
   ],
   "source": [
    "plt.plot(total_k,cross_val_scaled_data)"
   ]
  },
  {
   "cell_type": "code",
   "execution_count": 107,
   "metadata": {
    "colab": {
     "base_uri": "https://localhost:8080/",
     "height": 312
    },
    "executionInfo": {
     "elapsed": 451,
     "status": "ok",
     "timestamp": 1601662715434,
     "user": {
      "displayName": "Tasnuva Tehrin",
      "photoUrl": "",
      "userId": "04231041290543336108"
     },
     "user_tz": 300
    },
    "id": "M1U8it6Ig_aE",
    "outputId": "34b38a05-6488-4689-c661-a6cb511539a5"
   },
   "outputs": [
    {
     "data": {
      "text/plain": [
       "<matplotlib.legend.Legend at 0x7fc6794c3be0>"
      ]
     },
     "execution_count": 107,
     "metadata": {
      "tags": []
     },
     "output_type": "execute_result"
    },
    {
     "data": {
      "image/png": "[encoded data removed]",
      "text/plain": [
       "<Figure size 432x288 with 1 Axes>"
      ]
     },
     "metadata": {
      "needs_background": "light",
      "tags": []
     },
     "output_type": "display_data"
    }
   ],
   "source": [
    "plt.plot(total_k, cross_val_original_data, label='original', linestyle='--',marker='o')\n",
    "plt.plot(total_k, cross_val_scaled_data, label='scaled', linestyle='--',marker='o')\n",
    "plt.xlabel('K-Value')\n",
    "plt.ylabel('Accuracy')\n",
    "plt.title('Classification Accuracy of KNN over wine dataset(original vs. scaled')\n",
    "plt.legend(loc='lower right')"
   ]
  }
 ],
 "metadata": {
  "colab": {
   "authorship_tag": "ABX9TyPkTRDKNMnuySW0jQPFBoWW",
   "collapsed_sections": [],
   "name": "ML Challenge II .ipynb",
   "provenance": []
  },
  "kernelspec": {
   "display_name": "Python 3",
   "language": "python",
   "name": "python3"
  },
  "language_info": {
   "codemirror_mode": {
    "name": "ipython",
    "version": 3
   },
   "file_extension": ".py",
   "mimetype": "text/x-python",
   "name": "python",
   "nbconvert_exporter": "python",
   "pygments_lexer": "ipython3",
   "version": "3.8.5"
  }
 },
 "nbformat": 4,
 "nbformat_minor": 1
}
